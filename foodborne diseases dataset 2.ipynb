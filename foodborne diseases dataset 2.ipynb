{
 "cells": [
  {
   "cell_type": "markdown",
   "id": "7423ebb7",
   "metadata": {},
   "source": [
    "# Import library"
   ]
  },
  {
   "cell_type": "code",
   "execution_count": 129,
   "id": "b9f9369e",
   "metadata": {},
   "outputs": [],
   "source": [
    "import numpy as np\n",
    "import pandas as pd\n",
    "import matplotlib.pyplot as plt\n",
    "import seaborn as sns\n",
    "%matplotlib inline"
   ]
  },
  {
   "cell_type": "markdown",
   "id": "758c7a06",
   "metadata": {},
   "source": [
    "# Read dataset"
   ]
  },
  {
   "cell_type": "code",
   "execution_count": 130,
   "id": "8c4447f9",
   "metadata": {},
   "outputs": [
    {
     "data": {
      "text/html": [
       "<div>\n",
       "<style scoped>\n",
       "    .dataframe tbody tr th:only-of-type {\n",
       "        vertical-align: middle;\n",
       "    }\n",
       "\n",
       "    .dataframe tbody tr th {\n",
       "        vertical-align: top;\n",
       "    }\n",
       "\n",
       "    .dataframe thead th {\n",
       "        text-align: right;\n",
       "    }\n",
       "</style>\n",
       "<table border=\"1\" class=\"dataframe\">\n",
       "  <thead>\n",
       "    <tr style=\"text-align: right;\">\n",
       "      <th></th>\n",
       "      <th>Year</th>\n",
       "      <th>Month</th>\n",
       "      <th>State</th>\n",
       "      <th>GenusSpecies</th>\n",
       "      <th>Genotype</th>\n",
       "      <th>EtiologyStatus</th>\n",
       "      <th>Location</th>\n",
       "      <th>Illnesses</th>\n",
       "      <th>Hospitalizations</th>\n",
       "      <th>Deaths</th>\n",
       "      <th>FoodVehicle</th>\n",
       "      <th>ContaminatedIngredient</th>\n",
       "    </tr>\n",
       "  </thead>\n",
       "  <tbody>\n",
       "    <tr>\n",
       "      <th>0</th>\n",
       "      <td>2009</td>\n",
       "      <td>1</td>\n",
       "      <td>Minnesota</td>\n",
       "      <td>Norovirus</td>\n",
       "      <td>NaN</td>\n",
       "      <td>Suspected</td>\n",
       "      <td>Restaurant - Sit-down dining</td>\n",
       "      <td>2</td>\n",
       "      <td>0.0</td>\n",
       "      <td>0.0</td>\n",
       "      <td>NaN</td>\n",
       "      <td>NaN</td>\n",
       "    </tr>\n",
       "    <tr>\n",
       "      <th>1</th>\n",
       "      <td>2009</td>\n",
       "      <td>1</td>\n",
       "      <td>Minnesota</td>\n",
       "      <td>Norovirus</td>\n",
       "      <td>NaN</td>\n",
       "      <td>Confirmed</td>\n",
       "      <td>NaN</td>\n",
       "      <td>16</td>\n",
       "      <td>0.0</td>\n",
       "      <td>0.0</td>\n",
       "      <td>NaN</td>\n",
       "      <td>NaN</td>\n",
       "    </tr>\n",
       "    <tr>\n",
       "      <th>2</th>\n",
       "      <td>2009</td>\n",
       "      <td>1</td>\n",
       "      <td>Minnesota</td>\n",
       "      <td>Norovirus</td>\n",
       "      <td>NaN</td>\n",
       "      <td>Suspected</td>\n",
       "      <td>Restaurant - Sit-down dining</td>\n",
       "      <td>5</td>\n",
       "      <td>0.0</td>\n",
       "      <td>0.0</td>\n",
       "      <td>NaN</td>\n",
       "      <td>NaN</td>\n",
       "    </tr>\n",
       "    <tr>\n",
       "      <th>3</th>\n",
       "      <td>2009</td>\n",
       "      <td>1</td>\n",
       "      <td>Minnesota</td>\n",
       "      <td>Norovirus</td>\n",
       "      <td>NaN</td>\n",
       "      <td>Confirmed</td>\n",
       "      <td>Restaurant - \"Fast-food\"(drive up service or p...</td>\n",
       "      <td>3</td>\n",
       "      <td>0.0</td>\n",
       "      <td>0.0</td>\n",
       "      <td>NaN</td>\n",
       "      <td>NaN</td>\n",
       "    </tr>\n",
       "    <tr>\n",
       "      <th>4</th>\n",
       "      <td>2009</td>\n",
       "      <td>1</td>\n",
       "      <td>Minnesota</td>\n",
       "      <td>Norovirus</td>\n",
       "      <td>NaN</td>\n",
       "      <td>Confirmed</td>\n",
       "      <td>Restaurant - other or unknown type</td>\n",
       "      <td>21</td>\n",
       "      <td>0.0</td>\n",
       "      <td>0.0</td>\n",
       "      <td>cookies</td>\n",
       "      <td>NaN</td>\n",
       "    </tr>\n",
       "  </tbody>\n",
       "</table>\n",
       "</div>"
      ],
      "text/plain": [
       "   Year  Month      State GenusSpecies Genotype EtiologyStatus  \\\n",
       "0  2009      1  Minnesota    Norovirus      NaN      Suspected   \n",
       "1  2009      1  Minnesota    Norovirus      NaN      Confirmed   \n",
       "2  2009      1  Minnesota    Norovirus      NaN      Suspected   \n",
       "3  2009      1  Minnesota    Norovirus      NaN      Confirmed   \n",
       "4  2009      1  Minnesota    Norovirus      NaN      Confirmed   \n",
       "\n",
       "                                            Location  Illnesses  \\\n",
       "0                       Restaurant - Sit-down dining          2   \n",
       "1                                                NaN         16   \n",
       "2                       Restaurant - Sit-down dining          5   \n",
       "3  Restaurant - \"Fast-food\"(drive up service or p...          3   \n",
       "4                 Restaurant - other or unknown type         21   \n",
       "\n",
       "   Hospitalizations  Deaths FoodVehicle ContaminatedIngredient  \n",
       "0               0.0     0.0         NaN                    NaN  \n",
       "1               0.0     0.0         NaN                    NaN  \n",
       "2               0.0     0.0         NaN                    NaN  \n",
       "3               0.0     0.0         NaN                    NaN  \n",
       "4               0.0     0.0     cookies                    NaN  "
      ]
     },
     "execution_count": 130,
     "metadata": {},
     "output_type": "execute_result"
    }
   ],
   "source": [
    "fooddata = pd.read_csv(\"D:\\Files\\Eftiar\\Thesis\\Food borne diseases\\Food borne diseases prediction\\Foodborne-diseases-prediction-main\\FoodDataset.csv\")\n",
    "fooddata.head()"
   ]
  },
  {
   "cell_type": "markdown",
   "id": "575bc681",
   "metadata": {},
   "source": [
    "# Check null value"
   ]
  },
  {
   "cell_type": "code",
   "execution_count": 131,
   "id": "50a2f458",
   "metadata": {},
   "outputs": [
    {
     "data": {
      "text/plain": [
       "Year                          0\n",
       "Month                         0\n",
       "State                         0\n",
       "GenusSpecies               6619\n",
       "Genotype                  15212\n",
       "EtiologyStatus             6619\n",
       "Location                   1135\n",
       "Illnesses                     0\n",
       "Hospitalizations           3625\n",
       "Deaths                     3601\n",
       "FoodVehicle                8963\n",
       "ContaminatedIngredient    17243\n",
       "dtype: int64"
      ]
     },
     "execution_count": 131,
     "metadata": {},
     "output_type": "execute_result"
    }
   ],
   "source": [
    "nfd = fooddata.isnull().sum()\n",
    "nfd"
   ]
  },
  {
   "cell_type": "code",
   "execution_count": 132,
   "id": "0006cb40",
   "metadata": {},
   "outputs": [
    {
     "data": {
      "text/plain": [
       "(459, 12)"
      ]
     },
     "execution_count": 132,
     "metadata": {},
     "output_type": "execute_result"
    }
   ],
   "source": [
    "nfd = fooddata.dropna()\n",
    "nfd.shape"
   ]
  },
  {
   "cell_type": "markdown",
   "id": "492d8837",
   "metadata": {},
   "source": [
    "# Extracting variables"
   ]
  },
  {
   "cell_type": "code",
   "execution_count": 133,
   "id": "c09e37d7",
   "metadata": {},
   "outputs": [],
   "source": [
    "X = nfd.drop(['Year','Month','State','EtiologyStatus','Hospitalizations','Deaths',], axis = 1)\n",
    "y = nfd['EtiologyStatus']\n"
   ]
  },
  {
   "cell_type": "code",
   "execution_count": 134,
   "id": "ce7a6daf",
   "metadata": {},
   "outputs": [
    {
     "data": {
      "text/html": [
       "<div>\n",
       "<style scoped>\n",
       "    .dataframe tbody tr th:only-of-type {\n",
       "        vertical-align: middle;\n",
       "    }\n",
       "\n",
       "    .dataframe tbody tr th {\n",
       "        vertical-align: top;\n",
       "    }\n",
       "\n",
       "    .dataframe thead th {\n",
       "        text-align: right;\n",
       "    }\n",
       "</style>\n",
       "<table border=\"1\" class=\"dataframe\">\n",
       "  <thead>\n",
       "    <tr style=\"text-align: right;\">\n",
       "      <th></th>\n",
       "      <th>GenusSpecies</th>\n",
       "      <th>Genotype</th>\n",
       "      <th>Location</th>\n",
       "      <th>Illnesses</th>\n",
       "      <th>FoodVehicle</th>\n",
       "      <th>ContaminatedIngredient</th>\n",
       "    </tr>\n",
       "  </thead>\n",
       "  <tbody>\n",
       "    <tr>\n",
       "      <th>234</th>\n",
       "      <td>Salmonella enterica</td>\n",
       "      <td>Enteritidis</td>\n",
       "      <td>Other (describe in remarks)</td>\n",
       "      <td>45</td>\n",
       "      <td>salads</td>\n",
       "      <td>egg</td>\n",
       "    </tr>\n",
       "    <tr>\n",
       "      <th>240</th>\n",
       "      <td>Salmonella enterica</td>\n",
       "      <td>Montevideo</td>\n",
       "      <td>Private home/residence; Banquet Facility (food...</td>\n",
       "      <td>36</td>\n",
       "      <td>taco meat</td>\n",
       "      <td>beef</td>\n",
       "    </tr>\n",
       "    <tr>\n",
       "      <th>241</th>\n",
       "      <td>Salmonella enterica</td>\n",
       "      <td>Montevideo</td>\n",
       "      <td>Private home/residence; Banquet Facility (food...</td>\n",
       "      <td>88</td>\n",
       "      <td>roast beef</td>\n",
       "      <td>beef</td>\n",
       "    </tr>\n",
       "    <tr>\n",
       "      <th>245</th>\n",
       "      <td>Salmonella enterica</td>\n",
       "      <td>Heidelberg</td>\n",
       "      <td>Restaurant - Sit-down dining; Private home/res...</td>\n",
       "      <td>26</td>\n",
       "      <td>chicken</td>\n",
       "      <td>chicken</td>\n",
       "    </tr>\n",
       "    <tr>\n",
       "      <th>265</th>\n",
       "      <td>Escherichia coli, Shiga toxin-producing</td>\n",
       "      <td>O157:H7</td>\n",
       "      <td>Private home/residence</td>\n",
       "      <td>2</td>\n",
       "      <td>ground beef, hamburger</td>\n",
       "      <td>ground beef</td>\n",
       "    </tr>\n",
       "  </tbody>\n",
       "</table>\n",
       "</div>"
      ],
      "text/plain": [
       "                                GenusSpecies     Genotype  \\\n",
       "234                      Salmonella enterica  Enteritidis   \n",
       "240                      Salmonella enterica   Montevideo   \n",
       "241                      Salmonella enterica   Montevideo   \n",
       "245                      Salmonella enterica   Heidelberg   \n",
       "265  Escherichia coli, Shiga toxin-producing      O157:H7   \n",
       "\n",
       "                                              Location  Illnesses  \\\n",
       "234                        Other (describe in remarks)         45   \n",
       "240  Private home/residence; Banquet Facility (food...         36   \n",
       "241  Private home/residence; Banquet Facility (food...         88   \n",
       "245  Restaurant - Sit-down dining; Private home/res...         26   \n",
       "265                             Private home/residence          2   \n",
       "\n",
       "                FoodVehicle ContaminatedIngredient  \n",
       "234                  salads                    egg  \n",
       "240               taco meat                   beef  \n",
       "241              roast beef                   beef  \n",
       "245                 chicken                chicken  \n",
       "265  ground beef, hamburger            ground beef  "
      ]
     },
     "execution_count": 134,
     "metadata": {},
     "output_type": "execute_result"
    }
   ],
   "source": [
    "# Before preprocessing\n",
    "X.head()"
   ]
  },
  {
   "cell_type": "code",
   "execution_count": 135,
   "id": "5e5accb0",
   "metadata": {},
   "outputs": [
    {
     "data": {
      "text/plain": [
       "234    Confirmed\n",
       "240    Confirmed\n",
       "241    Confirmed\n",
       "245    Confirmed\n",
       "265    Confirmed\n",
       "Name: EtiologyStatus, dtype: object"
      ]
     },
     "execution_count": 135,
     "metadata": {},
     "output_type": "execute_result"
    }
   ],
   "source": [
    "y.head()"
   ]
  },
  {
   "cell_type": "markdown",
   "id": "76504455",
   "metadata": {},
   "source": [
    "# Data preprocessing"
   ]
  },
  {
   "cell_type": "code",
   "execution_count": 136,
   "id": "230f2bf4",
   "metadata": {},
   "outputs": [],
   "source": [
    "from sklearn import preprocessing\n",
    "le_x = preprocessing.LabelEncoder()\n",
    "X.GenusSpecies = le_x.fit_transform(X.GenusSpecies)\n",
    "X.Genotype = le_x.fit_transform(X.Genotype)\n",
    "X.Location = le_x.fit_transform(X.Location)\n",
    "X.Illnesses = le_x.fit_transform(X.Illnesses)\n",
    "X.FoodVehicle = le_x.fit_transform(X.FoodVehicle)\n",
    "X.ContaminatedIngredient = le_x.fit_transform(X.ContaminatedIngredient)\n",
    "y = le_x.fit_transform(y)"
   ]
  },
  {
   "cell_type": "code",
   "execution_count": 137,
   "id": "2b71c1bb",
   "metadata": {},
   "outputs": [
    {
     "data": {
      "text/html": [
       "<div>\n",
       "<style scoped>\n",
       "    .dataframe tbody tr th:only-of-type {\n",
       "        vertical-align: middle;\n",
       "    }\n",
       "\n",
       "    .dataframe tbody tr th {\n",
       "        vertical-align: top;\n",
       "    }\n",
       "\n",
       "    .dataframe thead th {\n",
       "        text-align: right;\n",
       "    }\n",
       "</style>\n",
       "<table border=\"1\" class=\"dataframe\">\n",
       "  <thead>\n",
       "    <tr style=\"text-align: right;\">\n",
       "      <th></th>\n",
       "      <th>GenusSpecies</th>\n",
       "      <th>Genotype</th>\n",
       "      <th>Location</th>\n",
       "      <th>Illnesses</th>\n",
       "      <th>FoodVehicle</th>\n",
       "      <th>ContaminatedIngredient</th>\n",
       "    </tr>\n",
       "  </thead>\n",
       "  <tbody>\n",
       "    <tr>\n",
       "      <th>234</th>\n",
       "      <td>13</td>\n",
       "      <td>16</td>\n",
       "      <td>9</td>\n",
       "      <td>42</td>\n",
       "      <td>217</td>\n",
       "      <td>43</td>\n",
       "    </tr>\n",
       "    <tr>\n",
       "      <th>240</th>\n",
       "      <td>13</td>\n",
       "      <td>54</td>\n",
       "      <td>12</td>\n",
       "      <td>34</td>\n",
       "      <td>252</td>\n",
       "      <td>6</td>\n",
       "    </tr>\n",
       "    <tr>\n",
       "      <th>241</th>\n",
       "      <td>13</td>\n",
       "      <td>54</td>\n",
       "      <td>12</td>\n",
       "      <td>70</td>\n",
       "      <td>205</td>\n",
       "      <td>6</td>\n",
       "    </tr>\n",
       "    <tr>\n",
       "      <th>245</th>\n",
       "      <td>13</td>\n",
       "      <td>38</td>\n",
       "      <td>32</td>\n",
       "      <td>24</td>\n",
       "      <td>35</td>\n",
       "      <td>25</td>\n",
       "    </tr>\n",
       "    <tr>\n",
       "      <th>265</th>\n",
       "      <td>3</td>\n",
       "      <td>69</td>\n",
       "      <td>11</td>\n",
       "      <td>0</td>\n",
       "      <td>111</td>\n",
       "      <td>60</td>\n",
       "    </tr>\n",
       "  </tbody>\n",
       "</table>\n",
       "</div>"
      ],
      "text/plain": [
       "     GenusSpecies  Genotype  Location  Illnesses  FoodVehicle  \\\n",
       "234            13        16         9         42          217   \n",
       "240            13        54        12         34          252   \n",
       "241            13        54        12         70          205   \n",
       "245            13        38        32         24           35   \n",
       "265             3        69        11          0          111   \n",
       "\n",
       "     ContaminatedIngredient  \n",
       "234                      43  \n",
       "240                       6  \n",
       "241                       6  \n",
       "245                      25  \n",
       "265                      60  "
      ]
     },
     "execution_count": 137,
     "metadata": {},
     "output_type": "execute_result"
    }
   ],
   "source": [
    "#After preprocessing\n",
    "\n",
    "X.head()"
   ]
  },
  {
   "cell_type": "code",
   "execution_count": 149,
   "id": "46e10a85",
   "metadata": {},
   "outputs": [
    {
     "data": {
      "text/plain": [
       "459"
      ]
     },
     "execution_count": 149,
     "metadata": {},
     "output_type": "execute_result"
    }
   ],
   "source": [
    "y\n",
    "len(y)"
   ]
  },
  {
   "cell_type": "markdown",
   "id": "dc463356",
   "metadata": {},
   "source": [
    "# Train & test the dataset"
   ]
  },
  {
   "cell_type": "code",
   "execution_count": 139,
   "id": "89f5339c",
   "metadata": {},
   "outputs": [],
   "source": [
    "from sklearn.model_selection import train_test_split\n",
    "X_train, X_test, y_train, y_test = train_test_split(X,y, test_size = 0.4, random_state = 1)"
   ]
  },
  {
   "cell_type": "markdown",
   "id": "aa7bb83c",
   "metadata": {},
   "source": [
    "# Scalling data"
   ]
  },
  {
   "cell_type": "code",
   "execution_count": 140,
   "id": "a06eea43",
   "metadata": {},
   "outputs": [],
   "source": [
    "from sklearn.preprocessing import StandardScaler\n",
    "st_X = StandardScaler()\n",
    "X_train = st_X.fit_transform(X_train)\n",
    "X_test = st_X.transform(X_test)"
   ]
  },
  {
   "cell_type": "markdown",
   "id": "b238e737",
   "metadata": {},
   "source": [
    "# Apply random forest"
   ]
  },
  {
   "cell_type": "code",
   "execution_count": 141,
   "id": "ecacbd7c",
   "metadata": {},
   "outputs": [
    {
     "data": {
      "text/html": [
       "<style>#sk-container-id-8 {color: black;background-color: white;}#sk-container-id-8 pre{padding: 0;}#sk-container-id-8 div.sk-toggleable {background-color: white;}#sk-container-id-8 label.sk-toggleable__label {cursor: pointer;display: block;width: 100%;margin-bottom: 0;padding: 0.3em;box-sizing: border-box;text-align: center;}#sk-container-id-8 label.sk-toggleable__label-arrow:before {content: \"▸\";float: left;margin-right: 0.25em;color: #696969;}#sk-container-id-8 label.sk-toggleable__label-arrow:hover:before {color: black;}#sk-container-id-8 div.sk-estimator:hover label.sk-toggleable__label-arrow:before {color: black;}#sk-container-id-8 div.sk-toggleable__content {max-height: 0;max-width: 0;overflow: hidden;text-align: left;background-color: #f0f8ff;}#sk-container-id-8 div.sk-toggleable__content pre {margin: 0.2em;color: black;border-radius: 0.25em;background-color: #f0f8ff;}#sk-container-id-8 input.sk-toggleable__control:checked~div.sk-toggleable__content {max-height: 200px;max-width: 100%;overflow: auto;}#sk-container-id-8 input.sk-toggleable__control:checked~label.sk-toggleable__label-arrow:before {content: \"▾\";}#sk-container-id-8 div.sk-estimator input.sk-toggleable__control:checked~label.sk-toggleable__label {background-color: #d4ebff;}#sk-container-id-8 div.sk-label input.sk-toggleable__control:checked~label.sk-toggleable__label {background-color: #d4ebff;}#sk-container-id-8 input.sk-hidden--visually {border: 0;clip: rect(1px 1px 1px 1px);clip: rect(1px, 1px, 1px, 1px);height: 1px;margin: -1px;overflow: hidden;padding: 0;position: absolute;width: 1px;}#sk-container-id-8 div.sk-estimator {font-family: monospace;background-color: #f0f8ff;border: 1px dotted black;border-radius: 0.25em;box-sizing: border-box;margin-bottom: 0.5em;}#sk-container-id-8 div.sk-estimator:hover {background-color: #d4ebff;}#sk-container-id-8 div.sk-parallel-item::after {content: \"\";width: 100%;border-bottom: 1px solid gray;flex-grow: 1;}#sk-container-id-8 div.sk-label:hover label.sk-toggleable__label {background-color: #d4ebff;}#sk-container-id-8 div.sk-serial::before {content: \"\";position: absolute;border-left: 1px solid gray;box-sizing: border-box;top: 0;bottom: 0;left: 50%;z-index: 0;}#sk-container-id-8 div.sk-serial {display: flex;flex-direction: column;align-items: center;background-color: white;padding-right: 0.2em;padding-left: 0.2em;position: relative;}#sk-container-id-8 div.sk-item {position: relative;z-index: 1;}#sk-container-id-8 div.sk-parallel {display: flex;align-items: stretch;justify-content: center;background-color: white;position: relative;}#sk-container-id-8 div.sk-item::before, #sk-container-id-8 div.sk-parallel-item::before {content: \"\";position: absolute;border-left: 1px solid gray;box-sizing: border-box;top: 0;bottom: 0;left: 50%;z-index: -1;}#sk-container-id-8 div.sk-parallel-item {display: flex;flex-direction: column;z-index: 1;position: relative;background-color: white;}#sk-container-id-8 div.sk-parallel-item:first-child::after {align-self: flex-end;width: 50%;}#sk-container-id-8 div.sk-parallel-item:last-child::after {align-self: flex-start;width: 50%;}#sk-container-id-8 div.sk-parallel-item:only-child::after {width: 0;}#sk-container-id-8 div.sk-dashed-wrapped {border: 1px dashed gray;margin: 0 0.4em 0.5em 0.4em;box-sizing: border-box;padding-bottom: 0.4em;background-color: white;}#sk-container-id-8 div.sk-label label {font-family: monospace;font-weight: bold;display: inline-block;line-height: 1.2em;}#sk-container-id-8 div.sk-label-container {text-align: center;}#sk-container-id-8 div.sk-container {/* jupyter's `normalize.less` sets `[hidden] { display: none; }` but bootstrap.min.css set `[hidden] { display: none !important; }` so we also need the `!important` here to be able to override the default hidden behavior on the sphinx rendered scikit-learn.org. See: https://github.com/scikit-learn/scikit-learn/issues/21755 */display: inline-block !important;position: relative;}#sk-container-id-8 div.sk-text-repr-fallback {display: none;}</style><div id=\"sk-container-id-8\" class=\"sk-top-container\"><div class=\"sk-text-repr-fallback\"><pre>RandomForestClassifier(criterion=&#x27;entropy&#x27;, n_estimators=10)</pre><b>In a Jupyter environment, please rerun this cell to show the HTML representation or trust the notebook. <br />On GitHub, the HTML representation is unable to render, please try loading this page with nbviewer.org.</b></div><div class=\"sk-container\" hidden><div class=\"sk-item\"><div class=\"sk-estimator sk-toggleable\"><input class=\"sk-toggleable__control sk-hidden--visually\" id=\"sk-estimator-id-8\" type=\"checkbox\" checked><label for=\"sk-estimator-id-8\" class=\"sk-toggleable__label sk-toggleable__label-arrow\">RandomForestClassifier</label><div class=\"sk-toggleable__content\"><pre>RandomForestClassifier(criterion=&#x27;entropy&#x27;, n_estimators=10)</pre></div></div></div></div></div>"
      ],
      "text/plain": [
       "RandomForestClassifier(criterion='entropy', n_estimators=10)"
      ]
     },
     "execution_count": 141,
     "metadata": {},
     "output_type": "execute_result"
    }
   ],
   "source": [
    "from sklearn.ensemble import RandomForestClassifier\n",
    "model1 = RandomForestClassifier(n_estimators = 10, criterion = \"entropy\")\n",
    "model1.fit(X_train, y_train)"
   ]
  },
  {
   "cell_type": "code",
   "execution_count": 142,
   "id": "869325d3",
   "metadata": {},
   "outputs": [],
   "source": [
    "# Accuracy on training data\n",
    "\n",
    "from sklearn.metrics import accuracy_score\n",
    "\n",
    "X_train_prediction_rfc = model1.predict(X_train)\n",
    "training_data_accuracy_rfc = accuracy_score(X_train_prediction_rfc, y_train)"
   ]
  },
  {
   "cell_type": "code",
   "execution_count": 143,
   "id": "2ab9909f",
   "metadata": {},
   "outputs": [
    {
     "name": "stdout",
     "output_type": "stream",
     "text": [
      "Accuracy on training data:  0.9854545454545455\n"
     ]
    }
   ],
   "source": [
    "print('Accuracy on training data: ', training_data_accuracy_rfc)"
   ]
  },
  {
   "cell_type": "code",
   "execution_count": 144,
   "id": "84b56374",
   "metadata": {},
   "outputs": [],
   "source": [
    "# accuracy on test data\n",
    "\n",
    "X_test_prediction_rfc = model1.predict(X_test)\n",
    "test_data_accuracy_rfc = accuracy_score(X_test_prediction_rfc, y_test)"
   ]
  },
  {
   "cell_type": "code",
   "execution_count": 145,
   "id": "625b3a1c",
   "metadata": {},
   "outputs": [
    {
     "name": "stdout",
     "output_type": "stream",
     "text": [
      "Accuracy on Test data:  0.8641304347826086\n"
     ]
    }
   ],
   "source": [
    "print('Accuracy on Test data: ', test_data_accuracy_rfc)"
   ]
  },
  {
   "cell_type": "code",
   "execution_count": 146,
   "id": "7953ed94",
   "metadata": {},
   "outputs": [
    {
     "name": "stdout",
     "output_type": "stream",
     "text": [
      "[1]\n",
      "Foodborne diseases is detected\n"
     ]
    }
   ],
   "source": [
    "#Input data\n",
    "\n",
    "input_data = (32,104,31,21,35,22)\n",
    "\n",
    "#change the input data to a numpy array\n",
    "input_data_as_numpy_array = np.asarray(input_data)\n",
    "\n",
    "#reshape the numpy array as we are predicting for only on instance\n",
    "input_data_reshaped = input_data_as_numpy_array.reshape(1,-1)\n",
    "\n",
    "prediction = model1.predict(input_data_reshaped)\n",
    "print(prediction)\n",
    "\n",
    "if(prediction[0] == 0):\n",
    "    print('Foodborne diseases is not detected')\n",
    "else:\n",
    "    print('Foodborne diseases is detected')"
   ]
  },
  {
   "cell_type": "code",
   "execution_count": null,
   "id": "545c0d0b",
   "metadata": {},
   "outputs": [],
   "source": []
  }
 ],
 "metadata": {
  "kernelspec": {
   "display_name": "Python 3 (ipykernel)",
   "language": "python",
   "name": "python3"
  },
  "language_info": {
   "codemirror_mode": {
    "name": "ipython",
    "version": 3
   },
   "file_extension": ".py",
   "mimetype": "text/x-python",
   "name": "python",
   "nbconvert_exporter": "python",
   "pygments_lexer": "ipython3",
   "version": "3.10.6"
  }
 },
 "nbformat": 4,
 "nbformat_minor": 5
}
